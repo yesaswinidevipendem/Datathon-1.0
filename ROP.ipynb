{
 "cells": [
  {
   "cell_type": "code",
   "execution_count": 1,
   "id": "7b94f8a8",
   "metadata": {},
   "outputs": [],
   "source": [
    "import warnings\n",
    "warnings.filterwarnings('ignore')"
   ]
  },
  {
   "cell_type": "code",
   "execution_count": 2,
   "id": "e8023200",
   "metadata": {},
   "outputs": [],
   "source": [
    "import pandas as pd\n",
    "import numpy as np"
   ]
  },
  {
   "cell_type": "markdown",
   "id": "8550d01c",
   "metadata": {},
   "source": [
    "# 1. Reading Data"
   ]
  },
  {
   "cell_type": "code",
   "execution_count": 3,
   "id": "b03b5e08",
   "metadata": {
    "scrolled": false
   },
   "outputs": [
    {
     "data": {
      "text/html": [
       "<div>\n",
       "<style scoped>\n",
       "    .dataframe tbody tr th:only-of-type {\n",
       "        vertical-align: middle;\n",
       "    }\n",
       "\n",
       "    .dataframe tbody tr th {\n",
       "        vertical-align: top;\n",
       "    }\n",
       "\n",
       "    .dataframe thead th {\n",
       "        text-align: right;\n",
       "    }\n",
       "</style>\n",
       "<table border=\"1\" class=\"dataframe\">\n",
       "  <thead>\n",
       "    <tr style=\"text-align: right;\">\n",
       "      <th></th>\n",
       "      <th>segment_id</th>\n",
       "      <th>wellbore_chev_no_id</th>\n",
       "      <th>area_id</th>\n",
       "      <th>formation_id</th>\n",
       "      <th>bit_model_id</th>\n",
       "      <th>drillbit_size</th>\n",
       "      <th>min_depth</th>\n",
       "      <th>max_depth</th>\n",
       "      <th>rate_of_penetration</th>\n",
       "      <th>surface_weight_on_bit</th>\n",
       "      <th>surface_rpm</th>\n",
       "    </tr>\n",
       "  </thead>\n",
       "  <tbody>\n",
       "    <tr>\n",
       "      <th>0</th>\n",
       "      <td>wellbore_chev_no_0_727</td>\n",
       "      <td>wellbore_chev_no_0</td>\n",
       "      <td>area_0</td>\n",
       "      <td>formation_62</td>\n",
       "      <td>bit_model_1</td>\n",
       "      <td>12.25</td>\n",
       "      <td>21834.5</td>\n",
       "      <td>21839.5</td>\n",
       "      <td>99.614650</td>\n",
       "      <td>43.533280</td>\n",
       "      <td>150.369091</td>\n",
       "    </tr>\n",
       "    <tr>\n",
       "      <th>1</th>\n",
       "      <td>wellbore_chev_no_0_728</td>\n",
       "      <td>wellbore_chev_no_0</td>\n",
       "      <td>area_0</td>\n",
       "      <td>formation_61</td>\n",
       "      <td>bit_model_1</td>\n",
       "      <td>12.25</td>\n",
       "      <td>21840.0</td>\n",
       "      <td>21869.5</td>\n",
       "      <td>99.354021</td>\n",
       "      <td>42.382033</td>\n",
       "      <td>150.369001</td>\n",
       "    </tr>\n",
       "    <tr>\n",
       "      <th>2</th>\n",
       "      <td>wellbore_chev_no_0_729</td>\n",
       "      <td>wellbore_chev_no_0</td>\n",
       "      <td>area_0</td>\n",
       "      <td>formation_59</td>\n",
       "      <td>bit_model_1</td>\n",
       "      <td>12.25</td>\n",
       "      <td>21870.0</td>\n",
       "      <td>21899.5</td>\n",
       "      <td>83.622907</td>\n",
       "      <td>48.675129</td>\n",
       "      <td>150.429335</td>\n",
       "    </tr>\n",
       "    <tr>\n",
       "      <th>3</th>\n",
       "      <td>wellbore_chev_no_0_730</td>\n",
       "      <td>wellbore_chev_no_0</td>\n",
       "      <td>area_0</td>\n",
       "      <td>formation_65</td>\n",
       "      <td>bit_model_1</td>\n",
       "      <td>12.25</td>\n",
       "      <td>21900.0</td>\n",
       "      <td>21929.5</td>\n",
       "      <td>85.427731</td>\n",
       "      <td>30.041290</td>\n",
       "      <td>150.080000</td>\n",
       "    </tr>\n",
       "    <tr>\n",
       "      <th>4</th>\n",
       "      <td>wellbore_chev_no_0_731</td>\n",
       "      <td>wellbore_chev_no_0</td>\n",
       "      <td>area_0</td>\n",
       "      <td>formation_65</td>\n",
       "      <td>bit_model_1</td>\n",
       "      <td>12.25</td>\n",
       "      <td>21930.0</td>\n",
       "      <td>21959.5</td>\n",
       "      <td>100.639811</td>\n",
       "      <td>31.406319</td>\n",
       "      <td>150.032167</td>\n",
       "    </tr>\n",
       "    <tr>\n",
       "      <th>...</th>\n",
       "      <td>...</td>\n",
       "      <td>...</td>\n",
       "      <td>...</td>\n",
       "      <td>...</td>\n",
       "      <td>...</td>\n",
       "      <td>...</td>\n",
       "      <td>...</td>\n",
       "      <td>...</td>\n",
       "      <td>...</td>\n",
       "      <td>...</td>\n",
       "      <td>...</td>\n",
       "    </tr>\n",
       "    <tr>\n",
       "      <th>6833</th>\n",
       "      <td>wellbore_chev_no_9_827</td>\n",
       "      <td>wellbore_chev_no_9</td>\n",
       "      <td>area_0</td>\n",
       "      <td>formation_88</td>\n",
       "      <td>bit_model_4</td>\n",
       "      <td>12.25</td>\n",
       "      <td>24810.0</td>\n",
       "      <td>24839.5</td>\n",
       "      <td>69.847645</td>\n",
       "      <td>20.770119</td>\n",
       "      <td>157.329500</td>\n",
       "    </tr>\n",
       "    <tr>\n",
       "      <th>6834</th>\n",
       "      <td>wellbore_chev_no_9_828</td>\n",
       "      <td>wellbore_chev_no_9</td>\n",
       "      <td>area_0</td>\n",
       "      <td>formation_87</td>\n",
       "      <td>bit_model_4</td>\n",
       "      <td>12.25</td>\n",
       "      <td>24840.0</td>\n",
       "      <td>24869.5</td>\n",
       "      <td>65.763896</td>\n",
       "      <td>15.634577</td>\n",
       "      <td>145.228103</td>\n",
       "    </tr>\n",
       "    <tr>\n",
       "      <th>6835</th>\n",
       "      <td>wellbore_chev_no_9_829</td>\n",
       "      <td>wellbore_chev_no_9</td>\n",
       "      <td>area_0</td>\n",
       "      <td>formation_87</td>\n",
       "      <td>bit_model_4</td>\n",
       "      <td>12.25</td>\n",
       "      <td>24870.0</td>\n",
       "      <td>24899.5</td>\n",
       "      <td>66.727449</td>\n",
       "      <td>15.356773</td>\n",
       "      <td>149.525178</td>\n",
       "    </tr>\n",
       "    <tr>\n",
       "      <th>6836</th>\n",
       "      <td>wellbore_chev_no_9_830</td>\n",
       "      <td>wellbore_chev_no_9</td>\n",
       "      <td>area_0</td>\n",
       "      <td>formation_87</td>\n",
       "      <td>bit_model_4</td>\n",
       "      <td>12.25</td>\n",
       "      <td>24900.0</td>\n",
       "      <td>24929.5</td>\n",
       "      <td>66.639130</td>\n",
       "      <td>16.970275</td>\n",
       "      <td>149.496551</td>\n",
       "    </tr>\n",
       "    <tr>\n",
       "      <th>6837</th>\n",
       "      <td>wellbore_chev_no_9_831</td>\n",
       "      <td>wellbore_chev_no_9</td>\n",
       "      <td>area_0</td>\n",
       "      <td>formation_87</td>\n",
       "      <td>bit_model_4</td>\n",
       "      <td>12.25</td>\n",
       "      <td>24930.0</td>\n",
       "      <td>24934.5</td>\n",
       "      <td>66.986291</td>\n",
       "      <td>16.501599</td>\n",
       "      <td>150.244000</td>\n",
       "    </tr>\n",
       "  </tbody>\n",
       "</table>\n",
       "<p>6838 rows × 11 columns</p>\n",
       "</div>"
      ],
      "text/plain": [
       "                  segment_id wellbore_chev_no_id area_id  formation_id  \\\n",
       "0     wellbore_chev_no_0_727  wellbore_chev_no_0  area_0  formation_62   \n",
       "1     wellbore_chev_no_0_728  wellbore_chev_no_0  area_0  formation_61   \n",
       "2     wellbore_chev_no_0_729  wellbore_chev_no_0  area_0  formation_59   \n",
       "3     wellbore_chev_no_0_730  wellbore_chev_no_0  area_0  formation_65   \n",
       "4     wellbore_chev_no_0_731  wellbore_chev_no_0  area_0  formation_65   \n",
       "...                      ...                 ...     ...           ...   \n",
       "6833  wellbore_chev_no_9_827  wellbore_chev_no_9  area_0  formation_88   \n",
       "6834  wellbore_chev_no_9_828  wellbore_chev_no_9  area_0  formation_87   \n",
       "6835  wellbore_chev_no_9_829  wellbore_chev_no_9  area_0  formation_87   \n",
       "6836  wellbore_chev_no_9_830  wellbore_chev_no_9  area_0  formation_87   \n",
       "6837  wellbore_chev_no_9_831  wellbore_chev_no_9  area_0  formation_87   \n",
       "\n",
       "     bit_model_id  drillbit_size  min_depth  max_depth  rate_of_penetration  \\\n",
       "0     bit_model_1          12.25    21834.5    21839.5            99.614650   \n",
       "1     bit_model_1          12.25    21840.0    21869.5            99.354021   \n",
       "2     bit_model_1          12.25    21870.0    21899.5            83.622907   \n",
       "3     bit_model_1          12.25    21900.0    21929.5            85.427731   \n",
       "4     bit_model_1          12.25    21930.0    21959.5           100.639811   \n",
       "...           ...            ...        ...        ...                  ...   \n",
       "6833  bit_model_4          12.25    24810.0    24839.5            69.847645   \n",
       "6834  bit_model_4          12.25    24840.0    24869.5            65.763896   \n",
       "6835  bit_model_4          12.25    24870.0    24899.5            66.727449   \n",
       "6836  bit_model_4          12.25    24900.0    24929.5            66.639130   \n",
       "6837  bit_model_4          12.25    24930.0    24934.5            66.986291   \n",
       "\n",
       "      surface_weight_on_bit  surface_rpm  \n",
       "0                 43.533280   150.369091  \n",
       "1                 42.382033   150.369001  \n",
       "2                 48.675129   150.429335  \n",
       "3                 30.041290   150.080000  \n",
       "4                 31.406319   150.032167  \n",
       "...                     ...          ...  \n",
       "6833              20.770119   157.329500  \n",
       "6834              15.634577   145.228103  \n",
       "6835              15.356773   149.525178  \n",
       "6836              16.970275   149.496551  \n",
       "6837              16.501599   150.244000  \n",
       "\n",
       "[6838 rows x 11 columns]"
      ]
     },
     "execution_count": 3,
     "metadata": {},
     "output_type": "execute_result"
    }
   ],
   "source": [
    "Rop= pd.read_excel('Copy of training.xlsx')\n",
    "Rop"
   ]
  },
  {
   "cell_type": "code",
   "execution_count": 4,
   "id": "068ee71a",
   "metadata": {},
   "outputs": [
    {
     "data": {
      "text/html": [
       "<div>\n",
       "<style scoped>\n",
       "    .dataframe tbody tr th:only-of-type {\n",
       "        vertical-align: middle;\n",
       "    }\n",
       "\n",
       "    .dataframe tbody tr th {\n",
       "        vertical-align: top;\n",
       "    }\n",
       "\n",
       "    .dataframe thead th {\n",
       "        text-align: right;\n",
       "    }\n",
       "</style>\n",
       "<table border=\"1\" class=\"dataframe\">\n",
       "  <thead>\n",
       "    <tr style=\"text-align: right;\">\n",
       "      <th></th>\n",
       "      <th>segment_id</th>\n",
       "      <th>wellbore_chev_no_id</th>\n",
       "      <th>area_id</th>\n",
       "      <th>formation_id</th>\n",
       "      <th>bit_model_id</th>\n",
       "      <th>drillbit_size</th>\n",
       "      <th>min_depth</th>\n",
       "      <th>max_depth</th>\n",
       "      <th>rate_of_penetration</th>\n",
       "      <th>surface_weight_on_bit</th>\n",
       "      <th>surface_rpm</th>\n",
       "    </tr>\n",
       "  </thead>\n",
       "  <tbody>\n",
       "    <tr>\n",
       "      <th>0</th>\n",
       "      <td>wellbore_chev_no_0_727</td>\n",
       "      <td>wellbore_chev_no_0</td>\n",
       "      <td>area_0</td>\n",
       "      <td>formation_62</td>\n",
       "      <td>bit_model_1</td>\n",
       "      <td>12.25</td>\n",
       "      <td>21834.5</td>\n",
       "      <td>21839.5</td>\n",
       "      <td>99.614650</td>\n",
       "      <td>43.533280</td>\n",
       "      <td>150.369091</td>\n",
       "    </tr>\n",
       "    <tr>\n",
       "      <th>1</th>\n",
       "      <td>wellbore_chev_no_0_728</td>\n",
       "      <td>wellbore_chev_no_0</td>\n",
       "      <td>area_0</td>\n",
       "      <td>formation_61</td>\n",
       "      <td>bit_model_1</td>\n",
       "      <td>12.25</td>\n",
       "      <td>21840.0</td>\n",
       "      <td>21869.5</td>\n",
       "      <td>99.354021</td>\n",
       "      <td>42.382033</td>\n",
       "      <td>150.369001</td>\n",
       "    </tr>\n",
       "    <tr>\n",
       "      <th>2</th>\n",
       "      <td>wellbore_chev_no_0_729</td>\n",
       "      <td>wellbore_chev_no_0</td>\n",
       "      <td>area_0</td>\n",
       "      <td>formation_59</td>\n",
       "      <td>bit_model_1</td>\n",
       "      <td>12.25</td>\n",
       "      <td>21870.0</td>\n",
       "      <td>21899.5</td>\n",
       "      <td>83.622907</td>\n",
       "      <td>48.675129</td>\n",
       "      <td>150.429335</td>\n",
       "    </tr>\n",
       "    <tr>\n",
       "      <th>3</th>\n",
       "      <td>wellbore_chev_no_0_730</td>\n",
       "      <td>wellbore_chev_no_0</td>\n",
       "      <td>area_0</td>\n",
       "      <td>formation_65</td>\n",
       "      <td>bit_model_1</td>\n",
       "      <td>12.25</td>\n",
       "      <td>21900.0</td>\n",
       "      <td>21929.5</td>\n",
       "      <td>85.427731</td>\n",
       "      <td>30.041290</td>\n",
       "      <td>150.080000</td>\n",
       "    </tr>\n",
       "    <tr>\n",
       "      <th>4</th>\n",
       "      <td>wellbore_chev_no_0_731</td>\n",
       "      <td>wellbore_chev_no_0</td>\n",
       "      <td>area_0</td>\n",
       "      <td>formation_65</td>\n",
       "      <td>bit_model_1</td>\n",
       "      <td>12.25</td>\n",
       "      <td>21930.0</td>\n",
       "      <td>21959.5</td>\n",
       "      <td>100.639811</td>\n",
       "      <td>31.406319</td>\n",
       "      <td>150.032167</td>\n",
       "    </tr>\n",
       "  </tbody>\n",
       "</table>\n",
       "</div>"
      ],
      "text/plain": [
       "               segment_id wellbore_chev_no_id area_id  formation_id  \\\n",
       "0  wellbore_chev_no_0_727  wellbore_chev_no_0  area_0  formation_62   \n",
       "1  wellbore_chev_no_0_728  wellbore_chev_no_0  area_0  formation_61   \n",
       "2  wellbore_chev_no_0_729  wellbore_chev_no_0  area_0  formation_59   \n",
       "3  wellbore_chev_no_0_730  wellbore_chev_no_0  area_0  formation_65   \n",
       "4  wellbore_chev_no_0_731  wellbore_chev_no_0  area_0  formation_65   \n",
       "\n",
       "  bit_model_id  drillbit_size  min_depth  max_depth  rate_of_penetration  \\\n",
       "0  bit_model_1          12.25    21834.5    21839.5            99.614650   \n",
       "1  bit_model_1          12.25    21840.0    21869.5            99.354021   \n",
       "2  bit_model_1          12.25    21870.0    21899.5            83.622907   \n",
       "3  bit_model_1          12.25    21900.0    21929.5            85.427731   \n",
       "4  bit_model_1          12.25    21930.0    21959.5           100.639811   \n",
       "\n",
       "   surface_weight_on_bit  surface_rpm  \n",
       "0              43.533280   150.369091  \n",
       "1              42.382033   150.369001  \n",
       "2              48.675129   150.429335  \n",
       "3              30.041290   150.080000  \n",
       "4              31.406319   150.032167  "
      ]
     },
     "execution_count": 4,
     "metadata": {},
     "output_type": "execute_result"
    }
   ],
   "source": [
    "Rop.head()"
   ]
  },
  {
   "cell_type": "code",
   "execution_count": 5,
   "id": "3a59bcfe",
   "metadata": {},
   "outputs": [
    {
     "data": {
      "text/plain": [
       "(6838, 11)"
      ]
     },
     "execution_count": 5,
     "metadata": {},
     "output_type": "execute_result"
    }
   ],
   "source": [
    "Rop.shape"
   ]
  },
  {
   "cell_type": "code",
   "execution_count": 6,
   "id": "000e8d4b",
   "metadata": {},
   "outputs": [
    {
     "name": "stdout",
     "output_type": "stream",
     "text": [
      "<class 'pandas.core.frame.DataFrame'>\n",
      "RangeIndex: 6838 entries, 0 to 6837\n",
      "Data columns (total 11 columns):\n",
      " #   Column                 Non-Null Count  Dtype  \n",
      "---  ------                 --------------  -----  \n",
      " 0   segment_id             6838 non-null   object \n",
      " 1   wellbore_chev_no_id    6838 non-null   object \n",
      " 2   area_id                6838 non-null   object \n",
      " 3   formation_id           6838 non-null   object \n",
      " 4   bit_model_id           6838 non-null   object \n",
      " 5   drillbit_size          6838 non-null   float64\n",
      " 6   min_depth              6838 non-null   float64\n",
      " 7   max_depth              6838 non-null   float64\n",
      " 8   rate_of_penetration    6838 non-null   float64\n",
      " 9   surface_weight_on_bit  6838 non-null   float64\n",
      " 10  surface_rpm            6838 non-null   float64\n",
      "dtypes: float64(6), object(5)\n",
      "memory usage: 587.8+ KB\n"
     ]
    }
   ],
   "source": [
    "Rop.info()"
   ]
  },
  {
   "cell_type": "code",
   "execution_count": 7,
   "id": "577e854a",
   "metadata": {},
   "outputs": [
    {
     "data": {
      "text/html": [
       "<div>\n",
       "<style scoped>\n",
       "    .dataframe tbody tr th:only-of-type {\n",
       "        vertical-align: middle;\n",
       "    }\n",
       "\n",
       "    .dataframe tbody tr th {\n",
       "        vertical-align: top;\n",
       "    }\n",
       "\n",
       "    .dataframe thead th {\n",
       "        text-align: right;\n",
       "    }\n",
       "</style>\n",
       "<table border=\"1\" class=\"dataframe\">\n",
       "  <thead>\n",
       "    <tr style=\"text-align: right;\">\n",
       "      <th></th>\n",
       "      <th>drillbit_size</th>\n",
       "      <th>min_depth</th>\n",
       "      <th>max_depth</th>\n",
       "      <th>rate_of_penetration</th>\n",
       "      <th>surface_weight_on_bit</th>\n",
       "      <th>surface_rpm</th>\n",
       "    </tr>\n",
       "  </thead>\n",
       "  <tbody>\n",
       "    <tr>\n",
       "      <th>count</th>\n",
       "      <td>6838.000000</td>\n",
       "      <td>6838.000000</td>\n",
       "      <td>6838.000000</td>\n",
       "      <td>6838.000000</td>\n",
       "      <td>6838.000000</td>\n",
       "      <td>6838.000000</td>\n",
       "    </tr>\n",
       "    <tr>\n",
       "      <th>mean</th>\n",
       "      <td>15.726309</td>\n",
       "      <td>19609.123574</td>\n",
       "      <td>19638.444245</td>\n",
       "      <td>106.997573</td>\n",
       "      <td>35.791311</td>\n",
       "      <td>156.262449</td>\n",
       "    </tr>\n",
       "    <tr>\n",
       "      <th>std</th>\n",
       "      <td>3.522179</td>\n",
       "      <td>5739.149255</td>\n",
       "      <td>5739.051073</td>\n",
       "      <td>55.061943</td>\n",
       "      <td>13.363067</td>\n",
       "      <td>25.217998</td>\n",
       "    </tr>\n",
       "    <tr>\n",
       "      <th>min</th>\n",
       "      <td>8.500000</td>\n",
       "      <td>4988.500000</td>\n",
       "      <td>5009.500000</td>\n",
       "      <td>5.382589</td>\n",
       "      <td>5.203333</td>\n",
       "      <td>60.594999</td>\n",
       "    </tr>\n",
       "    <tr>\n",
       "      <th>25%</th>\n",
       "      <td>12.250000</td>\n",
       "      <td>14970.000000</td>\n",
       "      <td>14999.500000</td>\n",
       "      <td>62.480077</td>\n",
       "      <td>26.348941</td>\n",
       "      <td>140.665599</td>\n",
       "    </tr>\n",
       "    <tr>\n",
       "      <th>50%</th>\n",
       "      <td>16.500000</td>\n",
       "      <td>20040.000000</td>\n",
       "      <td>20069.500000</td>\n",
       "      <td>100.828372</td>\n",
       "      <td>36.983090</td>\n",
       "      <td>159.661078</td>\n",
       "    </tr>\n",
       "    <tr>\n",
       "      <th>75%</th>\n",
       "      <td>18.125000</td>\n",
       "      <td>24120.000000</td>\n",
       "      <td>24149.500000</td>\n",
       "      <td>136.087159</td>\n",
       "      <td>44.311884</td>\n",
       "      <td>175.560704</td>\n",
       "    </tr>\n",
       "    <tr>\n",
       "      <th>max</th>\n",
       "      <td>26.000000</td>\n",
       "      <td>31050.000000</td>\n",
       "      <td>31070.750000</td>\n",
       "      <td>512.754999</td>\n",
       "      <td>71.328106</td>\n",
       "      <td>211.066667</td>\n",
       "    </tr>\n",
       "  </tbody>\n",
       "</table>\n",
       "</div>"
      ],
      "text/plain": [
       "       drillbit_size     min_depth     max_depth  rate_of_penetration  \\\n",
       "count    6838.000000   6838.000000   6838.000000          6838.000000   \n",
       "mean       15.726309  19609.123574  19638.444245           106.997573   \n",
       "std         3.522179   5739.149255   5739.051073            55.061943   \n",
       "min         8.500000   4988.500000   5009.500000             5.382589   \n",
       "25%        12.250000  14970.000000  14999.500000            62.480077   \n",
       "50%        16.500000  20040.000000  20069.500000           100.828372   \n",
       "75%        18.125000  24120.000000  24149.500000           136.087159   \n",
       "max        26.000000  31050.000000  31070.750000           512.754999   \n",
       "\n",
       "       surface_weight_on_bit  surface_rpm  \n",
       "count            6838.000000  6838.000000  \n",
       "mean               35.791311   156.262449  \n",
       "std                13.363067    25.217998  \n",
       "min                 5.203333    60.594999  \n",
       "25%                26.348941   140.665599  \n",
       "50%                36.983090   159.661078  \n",
       "75%                44.311884   175.560704  \n",
       "max                71.328106   211.066667  "
      ]
     },
     "execution_count": 7,
     "metadata": {},
     "output_type": "execute_result"
    }
   ],
   "source": [
    "Rop.describe()"
   ]
  },
  {
   "cell_type": "markdown",
   "id": "334aae1c",
   "metadata": {},
   "source": [
    "# 2. Cleaning the Data"
   ]
  },
  {
   "cell_type": "markdown",
   "id": "34cbb373",
   "metadata": {},
   "source": [
    "### 2.1 Null values"
   ]
  },
  {
   "cell_type": "code",
   "execution_count": 8,
   "id": "8eae949f",
   "metadata": {},
   "outputs": [
    {
     "data": {
      "text/plain": [
       "segment_id               0\n",
       "wellbore_chev_no_id      0\n",
       "area_id                  0\n",
       "formation_id             0\n",
       "bit_model_id             0\n",
       "drillbit_size            0\n",
       "min_depth                0\n",
       "max_depth                0\n",
       "rate_of_penetration      0\n",
       "surface_weight_on_bit    0\n",
       "surface_rpm              0\n",
       "dtype: int64"
      ]
     },
     "execution_count": 8,
     "metadata": {},
     "output_type": "execute_result"
    }
   ],
   "source": [
    "Rop.isnull().sum()  # shows no null values"
   ]
  },
  {
   "cell_type": "code",
   "execution_count": 9,
   "id": "dce0d125",
   "metadata": {},
   "outputs": [
    {
     "data": {
      "text/plain": [
       "0       False\n",
       "1       False\n",
       "2       False\n",
       "3       False\n",
       "4       False\n",
       "        ...  \n",
       "6833    False\n",
       "6834    False\n",
       "6835    False\n",
       "6836    False\n",
       "6837    False\n",
       "Length: 6838, dtype: bool"
      ]
     },
     "execution_count": 9,
     "metadata": {},
     "output_type": "execute_result"
    }
   ],
   "source": [
    "Rop.duplicated()   # No Duplicated Values"
   ]
  },
  {
   "cell_type": "markdown",
   "id": "f39185cd",
   "metadata": {},
   "source": [
    "# 3. Data Analysis"
   ]
  },
  {
   "cell_type": "code",
   "execution_count": 10,
   "id": "65c19a68",
   "metadata": {},
   "outputs": [
    {
     "data": {
      "text/html": [
       "<div>\n",
       "<style scoped>\n",
       "    .dataframe tbody tr th:only-of-type {\n",
       "        vertical-align: middle;\n",
       "    }\n",
       "\n",
       "    .dataframe tbody tr th {\n",
       "        vertical-align: top;\n",
       "    }\n",
       "\n",
       "    .dataframe thead th {\n",
       "        text-align: right;\n",
       "    }\n",
       "</style>\n",
       "<table border=\"1\" class=\"dataframe\">\n",
       "  <thead>\n",
       "    <tr style=\"text-align: right;\">\n",
       "      <th></th>\n",
       "      <th>segment_id</th>\n",
       "      <th>wellbore_chev_no_id</th>\n",
       "      <th>area_id</th>\n",
       "      <th>formation_id</th>\n",
       "      <th>bit_model_id</th>\n",
       "      <th>drillbit_size</th>\n",
       "      <th>min_depth</th>\n",
       "      <th>max_depth</th>\n",
       "      <th>rate_of_penetration</th>\n",
       "      <th>surface_weight_on_bit</th>\n",
       "      <th>surface_rpm</th>\n",
       "    </tr>\n",
       "  </thead>\n",
       "  <tbody>\n",
       "    <tr>\n",
       "      <th>0</th>\n",
       "      <td>wellbore_chev_no_0_727</td>\n",
       "      <td>wellbore_chev_no_0</td>\n",
       "      <td>area_0</td>\n",
       "      <td>formation_62</td>\n",
       "      <td>bit_model_1</td>\n",
       "      <td>12.25</td>\n",
       "      <td>21834.5</td>\n",
       "      <td>21839.5</td>\n",
       "      <td>99.614650</td>\n",
       "      <td>43.533280</td>\n",
       "      <td>150.369091</td>\n",
       "    </tr>\n",
       "    <tr>\n",
       "      <th>1</th>\n",
       "      <td>wellbore_chev_no_0_728</td>\n",
       "      <td>wellbore_chev_no_0</td>\n",
       "      <td>area_0</td>\n",
       "      <td>formation_61</td>\n",
       "      <td>bit_model_1</td>\n",
       "      <td>12.25</td>\n",
       "      <td>21840.0</td>\n",
       "      <td>21869.5</td>\n",
       "      <td>99.354021</td>\n",
       "      <td>42.382033</td>\n",
       "      <td>150.369001</td>\n",
       "    </tr>\n",
       "    <tr>\n",
       "      <th>2</th>\n",
       "      <td>wellbore_chev_no_0_729</td>\n",
       "      <td>wellbore_chev_no_0</td>\n",
       "      <td>area_0</td>\n",
       "      <td>formation_59</td>\n",
       "      <td>bit_model_1</td>\n",
       "      <td>12.25</td>\n",
       "      <td>21870.0</td>\n",
       "      <td>21899.5</td>\n",
       "      <td>83.622907</td>\n",
       "      <td>48.675129</td>\n",
       "      <td>150.429335</td>\n",
       "    </tr>\n",
       "    <tr>\n",
       "      <th>3</th>\n",
       "      <td>wellbore_chev_no_0_730</td>\n",
       "      <td>wellbore_chev_no_0</td>\n",
       "      <td>area_0</td>\n",
       "      <td>formation_65</td>\n",
       "      <td>bit_model_1</td>\n",
       "      <td>12.25</td>\n",
       "      <td>21900.0</td>\n",
       "      <td>21929.5</td>\n",
       "      <td>85.427731</td>\n",
       "      <td>30.041290</td>\n",
       "      <td>150.080000</td>\n",
       "    </tr>\n",
       "    <tr>\n",
       "      <th>4</th>\n",
       "      <td>wellbore_chev_no_0_731</td>\n",
       "      <td>wellbore_chev_no_0</td>\n",
       "      <td>area_0</td>\n",
       "      <td>formation_65</td>\n",
       "      <td>bit_model_1</td>\n",
       "      <td>12.25</td>\n",
       "      <td>21930.0</td>\n",
       "      <td>21959.5</td>\n",
       "      <td>100.639811</td>\n",
       "      <td>31.406319</td>\n",
       "      <td>150.032167</td>\n",
       "    </tr>\n",
       "    <tr>\n",
       "      <th>...</th>\n",
       "      <td>...</td>\n",
       "      <td>...</td>\n",
       "      <td>...</td>\n",
       "      <td>...</td>\n",
       "      <td>...</td>\n",
       "      <td>...</td>\n",
       "      <td>...</td>\n",
       "      <td>...</td>\n",
       "      <td>...</td>\n",
       "      <td>...</td>\n",
       "      <td>...</td>\n",
       "    </tr>\n",
       "    <tr>\n",
       "      <th>6833</th>\n",
       "      <td>wellbore_chev_no_9_827</td>\n",
       "      <td>wellbore_chev_no_9</td>\n",
       "      <td>area_0</td>\n",
       "      <td>formation_88</td>\n",
       "      <td>bit_model_4</td>\n",
       "      <td>12.25</td>\n",
       "      <td>24810.0</td>\n",
       "      <td>24839.5</td>\n",
       "      <td>69.847645</td>\n",
       "      <td>20.770119</td>\n",
       "      <td>157.329500</td>\n",
       "    </tr>\n",
       "    <tr>\n",
       "      <th>6834</th>\n",
       "      <td>wellbore_chev_no_9_828</td>\n",
       "      <td>wellbore_chev_no_9</td>\n",
       "      <td>area_0</td>\n",
       "      <td>formation_87</td>\n",
       "      <td>bit_model_4</td>\n",
       "      <td>12.25</td>\n",
       "      <td>24840.0</td>\n",
       "      <td>24869.5</td>\n",
       "      <td>65.763896</td>\n",
       "      <td>15.634577</td>\n",
       "      <td>145.228103</td>\n",
       "    </tr>\n",
       "    <tr>\n",
       "      <th>6835</th>\n",
       "      <td>wellbore_chev_no_9_829</td>\n",
       "      <td>wellbore_chev_no_9</td>\n",
       "      <td>area_0</td>\n",
       "      <td>formation_87</td>\n",
       "      <td>bit_model_4</td>\n",
       "      <td>12.25</td>\n",
       "      <td>24870.0</td>\n",
       "      <td>24899.5</td>\n",
       "      <td>66.727449</td>\n",
       "      <td>15.356773</td>\n",
       "      <td>149.525178</td>\n",
       "    </tr>\n",
       "    <tr>\n",
       "      <th>6836</th>\n",
       "      <td>wellbore_chev_no_9_830</td>\n",
       "      <td>wellbore_chev_no_9</td>\n",
       "      <td>area_0</td>\n",
       "      <td>formation_87</td>\n",
       "      <td>bit_model_4</td>\n",
       "      <td>12.25</td>\n",
       "      <td>24900.0</td>\n",
       "      <td>24929.5</td>\n",
       "      <td>66.639130</td>\n",
       "      <td>16.970275</td>\n",
       "      <td>149.496551</td>\n",
       "    </tr>\n",
       "    <tr>\n",
       "      <th>6837</th>\n",
       "      <td>wellbore_chev_no_9_831</td>\n",
       "      <td>wellbore_chev_no_9</td>\n",
       "      <td>area_0</td>\n",
       "      <td>formation_87</td>\n",
       "      <td>bit_model_4</td>\n",
       "      <td>12.25</td>\n",
       "      <td>24930.0</td>\n",
       "      <td>24934.5</td>\n",
       "      <td>66.986291</td>\n",
       "      <td>16.501599</td>\n",
       "      <td>150.244000</td>\n",
       "    </tr>\n",
       "  </tbody>\n",
       "</table>\n",
       "<p>6838 rows × 11 columns</p>\n",
       "</div>"
      ],
      "text/plain": [
       "                  segment_id wellbore_chev_no_id area_id  formation_id  \\\n",
       "0     wellbore_chev_no_0_727  wellbore_chev_no_0  area_0  formation_62   \n",
       "1     wellbore_chev_no_0_728  wellbore_chev_no_0  area_0  formation_61   \n",
       "2     wellbore_chev_no_0_729  wellbore_chev_no_0  area_0  formation_59   \n",
       "3     wellbore_chev_no_0_730  wellbore_chev_no_0  area_0  formation_65   \n",
       "4     wellbore_chev_no_0_731  wellbore_chev_no_0  area_0  formation_65   \n",
       "...                      ...                 ...     ...           ...   \n",
       "6833  wellbore_chev_no_9_827  wellbore_chev_no_9  area_0  formation_88   \n",
       "6834  wellbore_chev_no_9_828  wellbore_chev_no_9  area_0  formation_87   \n",
       "6835  wellbore_chev_no_9_829  wellbore_chev_no_9  area_0  formation_87   \n",
       "6836  wellbore_chev_no_9_830  wellbore_chev_no_9  area_0  formation_87   \n",
       "6837  wellbore_chev_no_9_831  wellbore_chev_no_9  area_0  formation_87   \n",
       "\n",
       "     bit_model_id  drillbit_size  min_depth  max_depth  rate_of_penetration  \\\n",
       "0     bit_model_1          12.25    21834.5    21839.5            99.614650   \n",
       "1     bit_model_1          12.25    21840.0    21869.5            99.354021   \n",
       "2     bit_model_1          12.25    21870.0    21899.5            83.622907   \n",
       "3     bit_model_1          12.25    21900.0    21929.5            85.427731   \n",
       "4     bit_model_1          12.25    21930.0    21959.5           100.639811   \n",
       "...           ...            ...        ...        ...                  ...   \n",
       "6833  bit_model_4          12.25    24810.0    24839.5            69.847645   \n",
       "6834  bit_model_4          12.25    24840.0    24869.5            65.763896   \n",
       "6835  bit_model_4          12.25    24870.0    24899.5            66.727449   \n",
       "6836  bit_model_4          12.25    24900.0    24929.5            66.639130   \n",
       "6837  bit_model_4          12.25    24930.0    24934.5            66.986291   \n",
       "\n",
       "      surface_weight_on_bit  surface_rpm  \n",
       "0                 43.533280   150.369091  \n",
       "1                 42.382033   150.369001  \n",
       "2                 48.675129   150.429335  \n",
       "3                 30.041290   150.080000  \n",
       "4                 31.406319   150.032167  \n",
       "...                     ...          ...  \n",
       "6833              20.770119   157.329500  \n",
       "6834              15.634577   145.228103  \n",
       "6835              15.356773   149.525178  \n",
       "6836              16.970275   149.496551  \n",
       "6837              16.501599   150.244000  \n",
       "\n",
       "[6838 rows x 11 columns]"
      ]
     },
     "execution_count": 10,
     "metadata": {},
     "output_type": "execute_result"
    }
   ],
   "source": [
    "Rop.drop_duplicates(subset = None, keep = 'first', inplace = True)\n",
    "Rop"
   ]
  },
  {
   "cell_type": "code",
   "execution_count": 11,
   "id": "8d9b19f2",
   "metadata": {},
   "outputs": [
    {
     "data": {
      "text/plain": [
       "(6838, 11)"
      ]
     },
     "execution_count": 11,
     "metadata": {},
     "output_type": "execute_result"
    }
   ],
   "source": [
    "Rop.shape"
   ]
  },
  {
   "cell_type": "code",
   "execution_count": 12,
   "id": "aad97723",
   "metadata": {},
   "outputs": [
    {
     "data": {
      "text/plain": [
       "segment_id                object\n",
       "wellbore_chev_no_id       object\n",
       "area_id                   object\n",
       "formation_id              object\n",
       "bit_model_id              object\n",
       "drillbit_size            float64\n",
       "min_depth                float64\n",
       "max_depth                float64\n",
       "rate_of_penetration      float64\n",
       "surface_weight_on_bit    float64\n",
       "surface_rpm              float64\n",
       "dtype: object"
      ]
     },
     "execution_count": 12,
     "metadata": {},
     "output_type": "execute_result"
    }
   ],
   "source": [
    "Rop.dtypes"
   ]
  },
  {
   "cell_type": "code",
   "execution_count": 13,
   "id": "ff912769",
   "metadata": {},
   "outputs": [],
   "source": [
    "obj_Rop=Rop.select_dtypes(include=['object']).copy()\n"
   ]
  },
  {
   "cell_type": "code",
   "execution_count": 14,
   "id": "c685435a",
   "metadata": {},
   "outputs": [
    {
     "data": {
      "text/html": [
       "<div>\n",
       "<style scoped>\n",
       "    .dataframe tbody tr th:only-of-type {\n",
       "        vertical-align: middle;\n",
       "    }\n",
       "\n",
       "    .dataframe tbody tr th {\n",
       "        vertical-align: top;\n",
       "    }\n",
       "\n",
       "    .dataframe thead th {\n",
       "        text-align: right;\n",
       "    }\n",
       "</style>\n",
       "<table border=\"1\" class=\"dataframe\">\n",
       "  <thead>\n",
       "    <tr style=\"text-align: right;\">\n",
       "      <th></th>\n",
       "      <th>segment_id</th>\n",
       "      <th>wellbore_chev_no_id</th>\n",
       "      <th>area_id</th>\n",
       "      <th>formation_id</th>\n",
       "      <th>bit_model_id</th>\n",
       "    </tr>\n",
       "  </thead>\n",
       "  <tbody>\n",
       "    <tr>\n",
       "      <th>0</th>\n",
       "      <td>wellbore_chev_no_0_727</td>\n",
       "      <td>wellbore_chev_no_0</td>\n",
       "      <td>area_0</td>\n",
       "      <td>formation_62</td>\n",
       "      <td>bit_model_1</td>\n",
       "    </tr>\n",
       "    <tr>\n",
       "      <th>1</th>\n",
       "      <td>wellbore_chev_no_0_728</td>\n",
       "      <td>wellbore_chev_no_0</td>\n",
       "      <td>area_0</td>\n",
       "      <td>formation_61</td>\n",
       "      <td>bit_model_1</td>\n",
       "    </tr>\n",
       "    <tr>\n",
       "      <th>2</th>\n",
       "      <td>wellbore_chev_no_0_729</td>\n",
       "      <td>wellbore_chev_no_0</td>\n",
       "      <td>area_0</td>\n",
       "      <td>formation_59</td>\n",
       "      <td>bit_model_1</td>\n",
       "    </tr>\n",
       "    <tr>\n",
       "      <th>3</th>\n",
       "      <td>wellbore_chev_no_0_730</td>\n",
       "      <td>wellbore_chev_no_0</td>\n",
       "      <td>area_0</td>\n",
       "      <td>formation_65</td>\n",
       "      <td>bit_model_1</td>\n",
       "    </tr>\n",
       "    <tr>\n",
       "      <th>4</th>\n",
       "      <td>wellbore_chev_no_0_731</td>\n",
       "      <td>wellbore_chev_no_0</td>\n",
       "      <td>area_0</td>\n",
       "      <td>formation_65</td>\n",
       "      <td>bit_model_1</td>\n",
       "    </tr>\n",
       "  </tbody>\n",
       "</table>\n",
       "</div>"
      ],
      "text/plain": [
       "               segment_id wellbore_chev_no_id area_id  formation_id  \\\n",
       "0  wellbore_chev_no_0_727  wellbore_chev_no_0  area_0  formation_62   \n",
       "1  wellbore_chev_no_0_728  wellbore_chev_no_0  area_0  formation_61   \n",
       "2  wellbore_chev_no_0_729  wellbore_chev_no_0  area_0  formation_59   \n",
       "3  wellbore_chev_no_0_730  wellbore_chev_no_0  area_0  formation_65   \n",
       "4  wellbore_chev_no_0_731  wellbore_chev_no_0  area_0  formation_65   \n",
       "\n",
       "  bit_model_id  \n",
       "0  bit_model_1  \n",
       "1  bit_model_1  \n",
       "2  bit_model_1  \n",
       "3  bit_model_1  \n",
       "4  bit_model_1  "
      ]
     },
     "execution_count": 14,
     "metadata": {},
     "output_type": "execute_result"
    }
   ],
   "source": [
    "obj_Rop.head()"
   ]
  },
  {
   "cell_type": "code",
   "execution_count": 15,
   "id": "28c89347",
   "metadata": {},
   "outputs": [
    {
     "data": {
      "text/html": [
       "<div>\n",
       "<style scoped>\n",
       "    .dataframe tbody tr th:only-of-type {\n",
       "        vertical-align: middle;\n",
       "    }\n",
       "\n",
       "    .dataframe tbody tr th {\n",
       "        vertical-align: top;\n",
       "    }\n",
       "\n",
       "    .dataframe thead th {\n",
       "        text-align: right;\n",
       "    }\n",
       "</style>\n",
       "<table border=\"1\" class=\"dataframe\">\n",
       "  <thead>\n",
       "    <tr style=\"text-align: right;\">\n",
       "      <th></th>\n",
       "      <th>segment_id</th>\n",
       "      <th>wellbore_chev_no_id</th>\n",
       "      <th>area_id</th>\n",
       "      <th>formation_id</th>\n",
       "      <th>bit_model_id</th>\n",
       "    </tr>\n",
       "  </thead>\n",
       "  <tbody>\n",
       "  </tbody>\n",
       "</table>\n",
       "</div>"
      ],
      "text/plain": [
       "Empty DataFrame\n",
       "Columns: [segment_id, wellbore_chev_no_id, area_id, formation_id, bit_model_id]\n",
       "Index: []"
      ]
     },
     "execution_count": 15,
     "metadata": {},
     "output_type": "execute_result"
    }
   ],
   "source": [
    "obj_Rop[obj_Rop.isnull().any(axis=1)]\n"
   ]
  },
  {
   "cell_type": "markdown",
   "id": "742efdef",
   "metadata": {},
   "source": [
    "#  4. Converting Categorical Data to Numerical"
   ]
  },
  {
   "cell_type": "code",
   "execution_count": 16,
   "id": "9dc43d72",
   "metadata": {},
   "outputs": [
    {
     "data": {
      "text/plain": [
       "segment_id               object\n",
       "wellbore_chev_no_id      object\n",
       "area_id                  object\n",
       "formation_id             object\n",
       "bit_model_id           category\n",
       "dtype: object"
      ]
     },
     "execution_count": 16,
     "metadata": {},
     "output_type": "execute_result"
    }
   ],
   "source": [
    "obj_Rop[\"bit_model_id\"] = obj_Rop[\"bit_model_id\"].astype('category')\n",
    "obj_Rop.dtypes"
   ]
  },
  {
   "cell_type": "code",
   "execution_count": 17,
   "id": "4cd2c737",
   "metadata": {},
   "outputs": [
    {
     "name": "stdout",
     "output_type": "stream",
     "text": [
      "\n",
      "\n",
      "                        index  frequency\n",
      "0     wellbore_chev_no_20_495          1\n",
      "1     wellbore_chev_no_22_932          1\n",
      "2     wellbore_chev_no_18_663          1\n",
      "3     wellbore_chev_no_18_639          1\n",
      "4      wellbore_chev_no_6_333          1\n",
      "...                       ...        ...\n",
      "6833  wellbore_chev_no_17_640          1\n",
      "6834  wellbore_chev_no_18_644          1\n",
      "6835  wellbore_chev_no_20_625          1\n",
      "6836  wellbore_chev_no_13_619          1\n",
      "6837   wellbore_chev_no_2_541          1\n",
      "\n",
      "[6838 rows x 2 columns]\n",
      "\n",
      "\n",
      "                  index  frequency\n",
      "0   wellbore_chev_no_20        701\n",
      "1    wellbore_chev_no_8        677\n",
      "2    wellbore_chev_no_6        661\n",
      "3    wellbore_chev_no_5        643\n",
      "4    wellbore_chev_no_2        628\n",
      "5   wellbore_chev_no_24        587\n",
      "6    wellbore_chev_no_3        549\n",
      "7   wellbore_chev_no_15        440\n",
      "8    wellbore_chev_no_9        435\n",
      "9   wellbore_chev_no_13        366\n",
      "10  wellbore_chev_no_18        195\n",
      "11  wellbore_chev_no_17        176\n",
      "12  wellbore_chev_no_12        149\n",
      "13   wellbore_chev_no_4        109\n",
      "14   wellbore_chev_no_0        101\n",
      "15  wellbore_chev_no_21         95\n",
      "16  wellbore_chev_no_11         90\n",
      "17  wellbore_chev_no_23         74\n",
      "18   wellbore_chev_no_1         61\n",
      "19  wellbore_chev_no_22         53\n",
      "20  wellbore_chev_no_10         48\n",
      "\n",
      "\n",
      "    index  frequency\n",
      "0  area_1       3966\n",
      "1  area_0       2872\n",
      "\n",
      "\n",
      "             index  frequency\n",
      "0    formation_221       2041\n",
      "1    formation_231        994\n",
      "2      formation_2        195\n",
      "3    formation_224        146\n",
      "4    formation_225        141\n",
      "..             ...        ...\n",
      "234  formation_205          1\n",
      "235  formation_113          1\n",
      "236  formation_238          1\n",
      "237   formation_36          1\n",
      "238  formation_155          1\n",
      "\n",
      "[239 rows x 2 columns]\n",
      "\n",
      "\n",
      "           index  frequency\n",
      "0   bit_model_31        680\n",
      "1   bit_model_43        658\n",
      "2   bit_model_20        575\n",
      "3    bit_model_8        563\n",
      "4   bit_model_39        554\n",
      "5   bit_model_11        540\n",
      "6   bit_model_17        412\n",
      "7   bit_model_32        352\n",
      "8   bit_model_42        285\n",
      "9   bit_model_29        271\n",
      "10  bit_model_26        219\n",
      "11   bit_model_6        174\n",
      "12  bit_model_33        157\n",
      "13  bit_model_28        141\n",
      "14   bit_model_2        121\n",
      "15   bit_model_3        112\n",
      "16  bit_model_37        109\n",
      "17  bit_model_10        108\n",
      "18   bit_model_4        102\n",
      "19   bit_model_1        101\n",
      "20  bit_model_25         99\n",
      "21  bit_model_14         90\n",
      "22  bit_model_12         79\n",
      "23  bit_model_34         54\n",
      "24  bit_model_22         44\n",
      "25  bit_model_15         41\n",
      "26  bit_model_19         38\n",
      "27  bit_model_21         31\n",
      "28  bit_model_30         29\n",
      "29  bit_model_13         22\n",
      "30  bit_model_23         19\n",
      "31  bit_model_24         17\n",
      "32  bit_model_40         13\n",
      "33  bit_model_16          8\n",
      "34  bit_model_27          7\n",
      "35  bit_model_18          7\n",
      "36   bit_model_0          3\n",
      "37  bit_model_36          3\n"
     ]
    }
   ],
   "source": [
    "cat_feat=[feat for feat in Rop.columns if Rop[feat].dtype=='O' and feat!='surface_rpm']\n",
    "for feat in cat_feat:\n",
    "    freq=Rop[feat].value_counts().reset_index(name='frequency')\n",
    "    print('\\n')\n",
    "    print(freq)"
   ]
  },
  {
   "cell_type": "code",
   "execution_count": 18,
   "id": "1dda7931",
   "metadata": {},
   "outputs": [],
   "source": [
    "from sklearn import preprocessing\n",
    "le=preprocessing.LabelEncoder()"
   ]
  },
  {
   "cell_type": "code",
   "execution_count": 19,
   "id": "421511d4",
   "metadata": {},
   "outputs": [
    {
     "data": {
      "text/plain": [
       "array([ 1, 17, 15, 20,  7,  6, 22, 19, 35,  2, 13, 26, 25, 27, 21, 29,  5,\n",
       "       31, 14,  3,  9, 28,  8, 33, 18, 12, 36,  0, 16, 30, 37, 24, 10, 11,\n",
       "        4, 23, 34, 32])"
      ]
     },
     "execution_count": 19,
     "metadata": {},
     "output_type": "execute_result"
    }
   ],
   "source": [
    "Rop['bit_model_id']=le.fit_transform(Rop['bit_model_id'])\n",
    "Rop['bit_model_id'].unique()"
   ]
  },
  {
   "cell_type": "code",
   "execution_count": 20,
   "id": "319ba364",
   "metadata": {},
   "outputs": [
    {
     "data": {
      "text/plain": [
       "array([   0,    1,    2, ..., 6835, 6836, 6837])"
      ]
     },
     "execution_count": 20,
     "metadata": {},
     "output_type": "execute_result"
    }
   ],
   "source": [
    "Rop['segment_id']=le.fit_transform(Rop['segment_id'])\n",
    "Rop['segment_id'].unique()"
   ]
  },
  {
   "cell_type": "code",
   "execution_count": 21,
   "id": "368f5fbe",
   "metadata": {},
   "outputs": [
    {
     "data": {
      "text/plain": [
       "array([ 0,  1,  2,  3,  4,  5,  6,  7,  8,  9, 10, 11, 12, 13, 14, 15, 16,\n",
       "       17, 18, 19, 20])"
      ]
     },
     "execution_count": 21,
     "metadata": {},
     "output_type": "execute_result"
    }
   ],
   "source": [
    "Rop['wellbore_chev_no_id']=le.fit_transform(Rop['wellbore_chev_no_id'])\n",
    "Rop['wellbore_chev_no_id'].unique()"
   ]
  },
  {
   "cell_type": "code",
   "execution_count": 22,
   "id": "381fbbc8",
   "metadata": {},
   "outputs": [
    {
     "data": {
      "text/plain": [
       "array([0, 1])"
      ]
     },
     "execution_count": 22,
     "metadata": {},
     "output_type": "execute_result"
    }
   ],
   "source": [
    "Rop['area_id']=le.fit_transform(Rop['area_id'])\n",
    "Rop['area_id'].unique()"
   ]
  },
  {
   "cell_type": "code",
   "execution_count": 23,
   "id": "4aad9ad6",
   "metadata": {},
   "outputs": [
    {
     "data": {
      "text/plain": [
       "array([200, 199, 196, 203, 202, 201, 143, 210, 207, 206, 205, 211, 220,\n",
       "       215, 222, 221, 229, 227, 231, 230, 137, 138, 195, 193, 140, 144,\n",
       "       214, 213, 212, 216, 145, 233, 238,   3,   2,   4,   7, 189, 188,\n",
       "       191, 190, 204, 226, 225, 232, 235, 234, 132, 131, 124, 141, 136,\n",
       "       110,  94, 142, 198, 209, 194, 192, 218, 237,   5,   6, 108, 127,\n",
       "       112, 126, 125, 123, 113, 121, 122, 109,  37,  65,  67,  63,  64,\n",
       "        39,  36, 154,  41,  42,  43,  45,  46, 167,  40,  18, 174,  19,\n",
       "        20,  21,  23,  24,  25,  26,  27,  28,  16,  17, 175, 105, 179,\n",
       "       180, 181,  95, 183, 184, 185, 186, 170,  44,  77,  88,  99, 111,\n",
       "       120, 228,  55,  68,  69,  72,  71,  74,  73,  75,  82,  78,  79,\n",
       "        80,  81,  89,  83,  84,  85,  91,  54, 119,  56,  57,  58,   1,\n",
       "        59,  60,  61,  93,  92,  62,  48,  49,  50,  51,  52,  53, 118,\n",
       "        29,  30,  31,  32,  34,  35,   0, 147, 155, 149, 148, 151, 152,\n",
       "       158, 156, 160, 159, 163, 166,  76, 168, 130,  47, 129, 128, 178,\n",
       "       103, 134, 133,  10,   9,  13,  12,  15,  14, 217, 223, 224, 236,\n",
       "         8, 106, 114, 107,  98, 100, 101, 102,  96,  97, 187, 197, 208,\n",
       "       219, 176,  11,  22,  33, 115, 146, 153, 150, 157, 116, 117, 162,\n",
       "       161, 165,  38, 171, 172, 104, 182,  66,  86,  87,  90, 177, 164,\n",
       "       173,  70, 169, 139, 135])"
      ]
     },
     "execution_count": 23,
     "metadata": {},
     "output_type": "execute_result"
    }
   ],
   "source": [
    "Rop['formation_id']=le.fit_transform(Rop['formation_id'])\n",
    "Rop['formation_id'].unique()"
   ]
  },
  {
   "cell_type": "code",
   "execution_count": 24,
   "id": "01c3acb3",
   "metadata": {},
   "outputs": [
    {
     "data": {
      "text/html": [
       "<div>\n",
       "<style scoped>\n",
       "    .dataframe tbody tr th:only-of-type {\n",
       "        vertical-align: middle;\n",
       "    }\n",
       "\n",
       "    .dataframe tbody tr th {\n",
       "        vertical-align: top;\n",
       "    }\n",
       "\n",
       "    .dataframe thead th {\n",
       "        text-align: right;\n",
       "    }\n",
       "</style>\n",
       "<table border=\"1\" class=\"dataframe\">\n",
       "  <thead>\n",
       "    <tr style=\"text-align: right;\">\n",
       "      <th></th>\n",
       "      <th>segment_id</th>\n",
       "      <th>wellbore_chev_no_id</th>\n",
       "      <th>area_id</th>\n",
       "      <th>formation_id</th>\n",
       "      <th>bit_model_id</th>\n",
       "      <th>drillbit_size</th>\n",
       "      <th>min_depth</th>\n",
       "      <th>max_depth</th>\n",
       "      <th>rate_of_penetration</th>\n",
       "      <th>surface_weight_on_bit</th>\n",
       "      <th>surface_rpm</th>\n",
       "    </tr>\n",
       "  </thead>\n",
       "  <tbody>\n",
       "    <tr>\n",
       "      <th>0</th>\n",
       "      <td>0</td>\n",
       "      <td>0</td>\n",
       "      <td>0</td>\n",
       "      <td>200</td>\n",
       "      <td>1</td>\n",
       "      <td>12.25</td>\n",
       "      <td>21834.5</td>\n",
       "      <td>21839.5</td>\n",
       "      <td>99.614650</td>\n",
       "      <td>43.533280</td>\n",
       "      <td>150.369091</td>\n",
       "    </tr>\n",
       "    <tr>\n",
       "      <th>1</th>\n",
       "      <td>1</td>\n",
       "      <td>0</td>\n",
       "      <td>0</td>\n",
       "      <td>199</td>\n",
       "      <td>1</td>\n",
       "      <td>12.25</td>\n",
       "      <td>21840.0</td>\n",
       "      <td>21869.5</td>\n",
       "      <td>99.354021</td>\n",
       "      <td>42.382033</td>\n",
       "      <td>150.369001</td>\n",
       "    </tr>\n",
       "    <tr>\n",
       "      <th>2</th>\n",
       "      <td>2</td>\n",
       "      <td>0</td>\n",
       "      <td>0</td>\n",
       "      <td>196</td>\n",
       "      <td>1</td>\n",
       "      <td>12.25</td>\n",
       "      <td>21870.0</td>\n",
       "      <td>21899.5</td>\n",
       "      <td>83.622907</td>\n",
       "      <td>48.675129</td>\n",
       "      <td>150.429335</td>\n",
       "    </tr>\n",
       "    <tr>\n",
       "      <th>3</th>\n",
       "      <td>3</td>\n",
       "      <td>0</td>\n",
       "      <td>0</td>\n",
       "      <td>203</td>\n",
       "      <td>1</td>\n",
       "      <td>12.25</td>\n",
       "      <td>21900.0</td>\n",
       "      <td>21929.5</td>\n",
       "      <td>85.427731</td>\n",
       "      <td>30.041290</td>\n",
       "      <td>150.080000</td>\n",
       "    </tr>\n",
       "    <tr>\n",
       "      <th>4</th>\n",
       "      <td>4</td>\n",
       "      <td>0</td>\n",
       "      <td>0</td>\n",
       "      <td>203</td>\n",
       "      <td>1</td>\n",
       "      <td>12.25</td>\n",
       "      <td>21930.0</td>\n",
       "      <td>21959.5</td>\n",
       "      <td>100.639811</td>\n",
       "      <td>31.406319</td>\n",
       "      <td>150.032167</td>\n",
       "    </tr>\n",
       "  </tbody>\n",
       "</table>\n",
       "</div>"
      ],
      "text/plain": [
       "   segment_id  wellbore_chev_no_id  area_id  formation_id  bit_model_id  \\\n",
       "0           0                    0        0           200             1   \n",
       "1           1                    0        0           199             1   \n",
       "2           2                    0        0           196             1   \n",
       "3           3                    0        0           203             1   \n",
       "4           4                    0        0           203             1   \n",
       "\n",
       "   drillbit_size  min_depth  max_depth  rate_of_penetration  \\\n",
       "0          12.25    21834.5    21839.5            99.614650   \n",
       "1          12.25    21840.0    21869.5            99.354021   \n",
       "2          12.25    21870.0    21899.5            83.622907   \n",
       "3          12.25    21900.0    21929.5            85.427731   \n",
       "4          12.25    21930.0    21959.5           100.639811   \n",
       "\n",
       "   surface_weight_on_bit  surface_rpm  \n",
       "0              43.533280   150.369091  \n",
       "1              42.382033   150.369001  \n",
       "2              48.675129   150.429335  \n",
       "3              30.041290   150.080000  \n",
       "4              31.406319   150.032167  "
      ]
     },
     "execution_count": 24,
     "metadata": {},
     "output_type": "execute_result"
    }
   ],
   "source": [
    "Rop.head()"
   ]
  },
  {
   "cell_type": "code",
   "execution_count": 25,
   "id": "22acbb3a",
   "metadata": {},
   "outputs": [],
   "source": [
    "from matplotlib import pyplot as plt\n",
    "import numpy as np"
   ]
  },
  {
   "cell_type": "code",
   "execution_count": 26,
   "id": "9ba42abb",
   "metadata": {},
   "outputs": [],
   "source": [
    "import seaborn as sns"
   ]
  },
  {
   "cell_type": "code",
   "execution_count": 42,
   "id": "eb69e9f7",
   "metadata": {},
   "outputs": [
    {
     "data": {
      "text/plain": [
       "<AxesSubplot:xlabel='formation_id', ylabel='rate_of_penetration'>"
      ]
     },
     "execution_count": 42,
     "metadata": {},
     "output_type": "execute_result"
    },
    {
     "data": {
      "image/png": "[encoded data removed]",
      "text/plain": [
       "<Figure size 432x288 with 1 Axes>"
      ]
     },
     "metadata": {
      "needs_background": "light"
     },
     "output_type": "display_data"
    }
   ],
   "source": [
    "sns.barplot(Rop['formation_id'],Rop['rate_of_penetration'])"
   ]
  },
  {
   "cell_type": "code",
   "execution_count": 43,
   "id": "ea5007e1",
   "metadata": {},
   "outputs": [
    {
     "data": {
      "text/plain": [
       "<AxesSubplot:xlabel='min_depth', ylabel='rate_of_penetration'>"
      ]
     },
     "execution_count": 43,
     "metadata": {},
     "output_type": "execute_result"
    },
    {
     "data": {
      "image/png": "[encoded data removed]",
      "text/plain": [
       "<Figure size 432x288 with 1 Axes>"
      ]
     },
     "metadata": {
      "needs_background": "light"
     },
     "output_type": "display_data"
    }
   ],
   "source": [
    "sns.barplot(Rop['min_depth'],Rop['rate_of_penetration'])"
   ]
  },
  {
   "cell_type": "code",
   "execution_count": 44,
   "id": "5144afe5",
   "metadata": {},
   "outputs": [
    {
     "data": {
      "text/plain": [
       "<AxesSubplot:xlabel='max_depth', ylabel='rate_of_penetration'>"
      ]
     },
     "execution_count": 44,
     "metadata": {},
     "output_type": "execute_result"
    },
    {
     "data": {
      "image/png": "[encoded data removed]",
      "text/plain": [
       "<Figure size 432x288 with 1 Axes>"
      ]
     },
     "metadata": {
      "needs_background": "light"
     },
     "output_type": "display_data"
    }
   ],
   "source": [
    "sns.barplot(Rop['max_depth'],Rop['rate_of_penetration'])"
   ]
  },
  {
   "cell_type": "code",
   "execution_count": 45,
   "id": "ad8c6e2f",
   "metadata": {},
   "outputs": [
    {
     "data": {
      "text/plain": [
       "<AxesSubplot:xlabel='surface_rpm', ylabel='rate_of_penetration'>"
      ]
     },
     "execution_count": 45,
     "metadata": {},
     "output_type": "execute_result"
    },
    {
     "data": {
      "image/png": "[encoded data removed]",
      "text/plain": [
       "<Figure size 432x288 with 1 Axes>"
      ]
     },
     "metadata": {
      "needs_background": "light"
     },
     "output_type": "display_data"
    }
   ],
   "source": [
    "sns.barplot(Rop['surface_rpm'],Rop['rate_of_penetration'])"
   ]
  },
  {
   "cell_type": "code",
   "execution_count": 47,
   "id": "59279f3c",
   "metadata": {},
   "outputs": [
    {
     "data": {
      "text/plain": [
       "<AxesSubplot:xlabel='surface_weight_on_bit', ylabel='rate_of_penetration'>"
      ]
     },
     "execution_count": 47,
     "metadata": {},
     "output_type": "execute_result"
    },
    {
     "data": {
      "image/png": "[encoded data removed]",
      "text/plain": [
       "<Figure size 432x288 with 1 Axes>"
      ]
     },
     "metadata": {
      "needs_background": "light"
     },
     "output_type": "display_data"
    }
   ],
   "source": [
    "sns.barplot(Rop['surface_weight_on_bit'],Rop['rate_of_penetration'])"
   ]
  },
  {
   "cell_type": "code",
   "execution_count": 46,
   "id": "6399d453",
   "metadata": {},
   "outputs": [
    {
     "data": {
      "text/plain": [
       "<AxesSubplot:xlabel='area_id', ylabel='rate_of_penetration'>"
      ]
     },
     "execution_count": 46,
     "metadata": {},
     "output_type": "execute_result"
    },
    {
     "data": {
      "image/png": "[encoded data removed]",
      "text/plain": [
       "<Figure size 432x288 with 1 Axes>"
      ]
     },
     "metadata": {
      "needs_background": "light"
     },
     "output_type": "display_data"
    }
   ],
   "source": [
    "sns.barplot(Rop['area_id'],Rop['rate_of_penetration'])"
   ]
  },
  {
   "cell_type": "code",
   "execution_count": 48,
   "id": "ec46f4a4",
   "metadata": {},
   "outputs": [
    {
     "data": {
      "text/plain": [
       "<AxesSubplot:xlabel='drillbit_size', ylabel='rate_of_penetration'>"
      ]
     },
     "execution_count": 48,
     "metadata": {},
     "output_type": "execute_result"
    },
    {
     "data": {
      "image/png": "[encoded data removed]",
      "text/plain": [
       "<Figure size 432x288 with 1 Axes>"
      ]
     },
     "metadata": {
      "needs_background": "light"
     },
     "output_type": "display_data"
    }
   ],
   "source": [
    "sns.barplot(Rop['drillbit_size'],Rop['rate_of_penetration'])"
   ]
  },
  {
   "cell_type": "code",
   "execution_count": 49,
   "id": "a351f02f",
   "metadata": {},
   "outputs": [
    {
     "data": {
      "text/plain": [
       "<AxesSubplot:xlabel='segment_id', ylabel='rate_of_penetration'>"
      ]
     },
     "execution_count": 49,
     "metadata": {},
     "output_type": "execute_result"
    },
    {
     "data": {
      "image/png": "[encoded data removed]",
      "text/plain": [
       "<Figure size 432x288 with 1 Axes>"
      ]
     },
     "metadata": {
      "needs_background": "light"
     },
     "output_type": "display_data"
    }
   ],
   "source": [
    "sns.barplot(Rop['segment_id'],Rop['rate_of_penetration'])"
   ]
  },
  {
   "cell_type": "code",
   "execution_count": 50,
   "id": "c564d852",
   "metadata": {
    "scrolled": false
   },
   "outputs": [
    {
     "data": {
      "text/plain": [
       "<AxesSubplot:xlabel='wellbore_chev_no_id', ylabel='rate_of_penetration'>"
      ]
     },
     "execution_count": 50,
     "metadata": {},
     "output_type": "execute_result"
    },
    {
     "data": {
      "image/png": "[encoded data removed]",
      "text/plain": [
       "<Figure size 432x288 with 1 Axes>"
      ]
     },
     "metadata": {
      "needs_background": "light"
     },
     "output_type": "display_data"
    }
   ],
   "source": [
    "sns.barplot(Rop['wellbore_chev_no_id'],Rop['rate_of_penetration'])"
   ]
  },
  {
   "cell_type": "code",
   "execution_count": 52,
   "id": "0e659779",
   "metadata": {},
   "outputs": [
    {
     "data": {
      "text/plain": [
       "<AxesSubplot:xlabel='bit_model_id', ylabel='rate_of_penetration'>"
      ]
     },
     "execution_count": 52,
     "metadata": {},
     "output_type": "execute_result"
    },
    {
     "data": {
      "image/png": "[encoded data removed]",
      "text/plain": [
       "<Figure size 432x288 with 1 Axes>"
      ]
     },
     "metadata": {
      "needs_background": "light"
     },
     "output_type": "display_data"
    }
   ],
   "source": [
    "sns.barplot(Rop['bit_model_id'],Rop['rate_of_penetration'])"
   ]
  },
  {
   "cell_type": "code",
   "execution_count": 33,
   "id": "ebf4402a",
   "metadata": {},
   "outputs": [
    {
     "data": {
      "text/plain": [
       "<matplotlib.collections.PathCollection at 0x20d7bc23b50>"
      ]
     },
     "execution_count": 33,
     "metadata": {},
     "output_type": "execute_result"
    },
    {
     "data": {
      "image/png": "[encoded data removed]",
      "text/plain": [
       "<Figure size 432x288 with 1 Axes>"
      ]
     },
     "metadata": {
      "needs_background": "light"
     },
     "output_type": "display_data"
    }
   ],
   "source": [
    "plt.scatter(x,y)"
   ]
  },
  {
   "cell_type": "code",
   "execution_count": 34,
   "id": "89ea666d",
   "metadata": {},
   "outputs": [
    {
     "data": {
      "text/plain": [
       "[<matplotlib.lines.Line2D at 0x20d7bdcab80>]"
      ]
     },
     "execution_count": 34,
     "metadata": {},
     "output_type": "execute_result"
    },
    {
     "data": {
      "image/png": "[encoded data removed]",
      "text/plain": [
       "<Figure size 432x288 with 1 Axes>"
      ]
     },
     "metadata": {
      "needs_background": "light"
     },
     "output_type": "display_data"
    }
   ],
   "source": [
    "plt.plot(x,y)"
   ]
  },
  {
   "cell_type": "code",
   "execution_count": 35,
   "id": "a1930b3e",
   "metadata": {},
   "outputs": [
    {
     "data": {
      "text/plain": [
       "(array([ 239.,  449.,  213.,  410.,  406., 3714.,  197.,  317.,  503.,\n",
       "         390.]),\n",
       " array([  0. ,  23.8,  47.6,  71.4,  95.2, 119. , 142.8, 166.6, 190.4,\n",
       "        214.2, 238. ]),\n",
       " <BarContainer object of 10 artists>)"
      ]
     },
     "execution_count": 35,
     "metadata": {},
     "output_type": "execute_result"
    },
    {
     "data": {
      "image/png": "[encoded data removed]",
      "text/plain": [
       "<Figure size 432x288 with 1 Axes>"
      ]
     },
     "metadata": {
      "needs_background": "light"
     },
     "output_type": "display_data"
    }
   ],
   "source": [
    "plt.hist(x)"
   ]
  },
  {
   "cell_type": "code",
   "execution_count": 36,
   "id": "cf5845b6",
   "metadata": {},
   "outputs": [
    {
     "data": {
      "text/plain": [
       "(array([1204., 2510., 2264.,  542.,  247.,   23.,   12.,   14.,   14.,\n",
       "           8.]),\n",
       " array([  5.38258901,  56.11982998, 106.85707095, 157.59431192,\n",
       "        208.33155289, 259.06879386, 309.80603483, 360.54327579,\n",
       "        411.28051676, 462.01775773, 512.7549987 ]),\n",
       " <BarContainer object of 10 artists>)"
      ]
     },
     "execution_count": 36,
     "metadata": {},
     "output_type": "execute_result"
    },
    {
     "data": {
      "image/png": "[encoded data removed]",
      "text/plain": [
       "<Figure size 432x288 with 1 Axes>"
      ]
     },
     "metadata": {
      "needs_background": "light"
     },
     "output_type": "display_data"
    }
   ],
   "source": [
    "plt.hist(y)"
   ]
  },
  {
   "cell_type": "code",
   "execution_count": 37,
   "id": "26e86b5d",
   "metadata": {},
   "outputs": [
    {
     "data": {
      "text/plain": [
       "<AxesSubplot:xlabel='formation_id', ylabel='rate_of_penetration'>"
      ]
     },
     "execution_count": 37,
     "metadata": {},
     "output_type": "execute_result"
    },
    {
     "data": {
      "image/png": "[encoded data removed]",
      "text/plain": [
       "<Figure size 432x288 with 1 Axes>"
      ]
     },
     "metadata": {
      "needs_background": "light"
     },
     "output_type": "display_data"
    }
   ],
   "source": [
    "sns.lineplot(x,y)"
   ]
  },
  {
   "cell_type": "code",
   "execution_count": 38,
   "id": "45b708d0",
   "metadata": {},
   "outputs": [
    {
     "data": {
      "text/plain": [
       "<AxesSubplot:xlabel='formation_id', ylabel='rate_of_penetration'>"
      ]
     },
     "execution_count": 38,
     "metadata": {},
     "output_type": "execute_result"
    },
    {
     "data": {
      "image/png": "[encoded data removed]",
      "text/plain": [
       "<Figure size 432x288 with 1 Axes>"
      ]
     },
     "metadata": {
      "needs_background": "light"
     },
     "output_type": "display_data"
    }
   ],
   "source": [
    "sns.scatterplot(x,y)"
   ]
  },
  {
   "cell_type": "code",
   "execution_count": null,
   "id": "96937452",
   "metadata": {},
   "outputs": [],
   "source": []
  }
 ],
 "metadata": {
  "kernelspec": {
   "display_name": "Python 3",
   "language": "python",
   "name": "python3"
  },
  "language_info": {
   "codemirror_mode": {
    "name": "ipython",
    "version": 3
   },
   "file_extension": ".py",
   "mimetype": "text/x-python",
   "name": "python",
   "nbconvert_exporter": "python",
   "pygments_lexer": "ipython3",
   "version": "3.8.8"
  }
 },
 "nbformat": 4,
 "nbformat_minor": 5
}
